{
 "cells": [
  {
   "cell_type": "code",
   "execution_count": 1,
   "id": "a81959ca-200f-49c3-aad3-a11df31c44e3",
   "metadata": {},
   "outputs": [],
   "source": [
    "import pandas as pd\n",
    "import numpy as np\n",
    "f_t_d_t = pd.read_csv('unzip/FINAL_TARGETS_DATES_TRAINTEST.tsv', delimiter = '\\t')\n",
    "f_f_t = pd.read_csv(\"unzip/FINAL_FEATURES_TRAINTEST.tsv\", delimiter = \"\\t\")\n",
    "value_not_0_1 = []\n",
    "value_not_0_0 = []\n",
    "f_t_d_t_1 = list(f_t_d_t[f_t_d_t['TARGET'] == '1']['CLIENT_ID'])\n",
    "f_t_d_t_0 = list(f_t_d_t[f_t_d_t['TARGET'] == '0']['CLIENT_ID'])"
   ]
  },
  {
   "cell_type": "code",
   "execution_count": 4,
   "id": "ad3788f3-beec-4173-bd99-2175400ed066",
   "metadata": {},
   "outputs": [],
   "source": [
    "f_f_t_1 = f_f_t[f_f_t['CLIENT_ID'].isin(f_t_d_t_1)]\n",
    "for i in f_f_t_1.columns[1:]:\n",
    "    count = len(f_f_t_1[i]) - f_f_t_1[i].value_counts()[0]\n",
    "    value_not_0_1.append(count)\n",
    "count_of_i_and_u_1 = pd.DataFrame({'data':  value_not_0_1, 'columns':  f_f_t_1.columns[1:]})\n",
    "count_of_i_and_u_1 = count_of_i_and_u_1.sort_values(by = ['data'], ascending = False)\n",
    "count_of_i_and_u_1.to_csv('count_of_i_and_u_1.csv', index = False)"
   ]
  },
  {
   "cell_type": "code",
   "execution_count": 9,
   "id": "2ed7beff-b648-49bb-bbb6-2426ddffd6e1",
   "metadata": {},
   "outputs": [],
   "source": [
    "f_f_t_0 = f_f_t[f_f_t['CLIENT_ID'].isin(f_t_d_t_0)]\n",
    "for i in f_f_t_0.columns[1:]:\n",
    "    count = len(f_f_t_0[i]) - f_f_t_0[i].value_counts()[0]\n",
    "    value_not_0_0.append(count)\n",
    "count_of_i_and_u_0 = pd.DataFrame({'data':  value_not_0_0, 'columns':  f_f_t_0.columns[1:]})\n",
    "count_of_i_and_u_0 = count_of_i_and_u_0.sort_values(by = ['data'], ascending = False)\n",
    "count_of_i_and_u_0.to_csv('count_of_i_and_u_0.csv', index = False)"
   ]
  }
 ],
 "metadata": {
  "kernelspec": {
   "display_name": "Python 3 (ipykernel)",
   "language": "python",
   "name": "python3"
  },
  "language_info": {
   "codemirror_mode": {
    "name": "ipython",
    "version": 3
   },
   "file_extension": ".py",
   "mimetype": "text/x-python",
   "name": "python",
   "nbconvert_exporter": "python",
   "pygments_lexer": "ipython3",
   "version": "3.9.7"
  }
 },
 "nbformat": 4,
 "nbformat_minor": 5
}
